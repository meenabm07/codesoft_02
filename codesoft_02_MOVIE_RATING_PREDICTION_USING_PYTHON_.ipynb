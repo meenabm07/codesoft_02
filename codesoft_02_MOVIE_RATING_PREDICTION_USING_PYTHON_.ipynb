{
  "nbformat": 4,
  "nbformat_minor": 0,
  "metadata": {
    "colab": {
      "provenance": [],
      "mount_file_id": "1Jrr48kMP8VWC00p3bw9cjWTya7T3cESu",
      "authorship_tag": "ABX9TyMe82ezP+m8aNTGF28ZoFyb",
      "include_colab_link": true
    },
    "kernelspec": {
      "name": "python3",
      "display_name": "Python 3"
    },
    "language_info": {
      "name": "python"
    }
  },
  "cells": [
    {
      "cell_type": "markdown",
      "metadata": {
        "id": "view-in-github",
        "colab_type": "text"
      },
      "source": [
        "<a href=\"https://colab.research.google.com/github/meenabm07/codesoft_02/blob/main/codesoft_02_MOVIE_RATING_PREDICTION_USING_PYTHON_.ipynb\" target=\"_parent\"><img src=\"https://colab.research.google.com/assets/colab-badge.svg\" alt=\"Open In Colab\"/></a>"
      ]
    },
    {
      "cell_type": "markdown",
      "source": [
        ". IMPORT LIBRARIES AND LOAD DATA"
      ],
      "metadata": {
        "id": "YyubZIBW7E_o"
      }
    },
    {
      "cell_type": "code",
      "source": [
        "import pandas as pd\n",
        "from sklearn.model_selection import train_test_split\n",
        "from sklearn.preprocessing import OneHotEncoder, StandardScaler\n",
        "from sklearn.compose import ColumnTransformer\n",
        "from sklearn.pipeline import Pipeline\n",
        "from sklearn.impute import SimpleImputer\n",
        "from sklearn.linear_model import LinearRegression\n",
        "from sklearn.metrics import mean_squared_error, mean_absolute_error, r2_score\n",
        "\n",
        "# Load the dataset with specified encoding\n",
        "file_path = '/content/IMDb Movies India.csv'  # Update this with the actual path\n",
        "df = pd.read_csv(file_path, encoding='ISO-8859-1')\n",
        "\n",
        "# Display the first few rows of the dataset\n",
        "print(df.head())\n",
        "\n",
        "# Display basic information about the dataset\n",
        "print(df.info())\n",
        "\n",
        "# Check for missing values\n",
        "print(df.isnull().sum())\n"
      ],
      "metadata": {
        "colab": {
          "base_uri": "https://localhost:8080/"
        },
        "id": "9CekRAFm7Q4v",
        "outputId": "8dda5907-3a46-4145-920f-d0fa31ba44c0"
      },
      "execution_count": null,
      "outputs": [
        {
          "output_type": "stream",
          "name": "stdout",
          "text": [
            "                                 Name    Year Duration            Genre  \\\n",
            "0                                         NaN      NaN            Drama   \n",
            "1  #Gadhvi (He thought he was Gandhi)  (2019)  109 min            Drama   \n",
            "2                         #Homecoming  (2021)   90 min   Drama, Musical   \n",
            "3                             #Yaaram  (2019)  110 min  Comedy, Romance   \n",
            "4                   ...And Once Again  (2010)  105 min            Drama   \n",
            "\n",
            "   Rating Votes            Director       Actor 1             Actor 2  \\\n",
            "0     NaN   NaN       J.S. Randhawa      Manmauji              Birbal   \n",
            "1     7.0     8       Gaurav Bakshi  Rasika Dugal      Vivek Ghamande   \n",
            "2     NaN   NaN  Soumyajit Majumdar  Sayani Gupta   Plabita Borthakur   \n",
            "3     4.4    35          Ovais Khan       Prateik          Ishita Raj   \n",
            "4     NaN   NaN        Amol Palekar  Rajat Kapoor  Rituparna Sengupta   \n",
            "\n",
            "           Actor 3  \n",
            "0  Rajendra Bhatia  \n",
            "1    Arvind Jangid  \n",
            "2       Roy Angana  \n",
            "3  Siddhant Kapoor  \n",
            "4      Antara Mali  \n",
            "<class 'pandas.core.frame.DataFrame'>\n",
            "RangeIndex: 15509 entries, 0 to 15508\n",
            "Data columns (total 10 columns):\n",
            " #   Column    Non-Null Count  Dtype  \n",
            "---  ------    --------------  -----  \n",
            " 0   Name      15509 non-null  object \n",
            " 1   Year      14981 non-null  object \n",
            " 2   Duration  7240 non-null   object \n",
            " 3   Genre     13632 non-null  object \n",
            " 4   Rating    7919 non-null   float64\n",
            " 5   Votes     7920 non-null   object \n",
            " 6   Director  14984 non-null  object \n",
            " 7   Actor 1   13892 non-null  object \n",
            " 8   Actor 2   13125 non-null  object \n",
            " 9   Actor 3   12365 non-null  object \n",
            "dtypes: float64(1), object(9)\n",
            "memory usage: 1.2+ MB\n",
            "None\n",
            "Name           0\n",
            "Year         528\n",
            "Duration    8269\n",
            "Genre       1877\n",
            "Rating      7590\n",
            "Votes       7589\n",
            "Director     525\n",
            "Actor 1     1617\n",
            "Actor 2     2384\n",
            "Actor 3     3144\n",
            "dtype: int64\n"
          ]
        }
      ]
    },
    {
      "cell_type": "markdown",
      "source": [
        " Check for NaN Values in Predictions"
      ],
      "metadata": {
        "id": "EVuvIj5v7TaJ"
      }
    },
    {
      "cell_type": "code",
      "source": [
        "print(\"NaNs in y_test:\", y_test.isnull().sum())\n",
        "print(\"NaNs in y_pred:\", pd.isna(y_pred).sum())\n"
      ],
      "metadata": {
        "colab": {
          "base_uri": "https://localhost:8080/"
        },
        "id": "3k4JLqJj54Fe",
        "outputId": "9a3fcfed-1fbb-4157-bcfe-664d57861c00"
      },
      "execution_count": null,
      "outputs": [
        {
          "output_type": "stream",
          "name": "stdout",
          "text": [
            "NaNs in y_test: 1\n",
            "NaNs in y_pred: 0\n"
          ]
        }
      ]
    },
    {
      "cell_type": "markdown",
      "source": [
        "Investigate and Handle NaN Values"
      ],
      "metadata": {
        "id": "2o3Ep7Tk7bRR"
      }
    },
    {
      "cell_type": "code",
      "source": [
        "print(\"NaNs in X_train:\", X_train.isnull().sum().sum())\n",
        "print(\"NaNs in X_test:\", X_test.isnull().sum().sum())\n",
        "print(\"NaNs in y_train:\", y_train.isnull().sum())\n",
        "print(\"NaNs in y_test:\", y_test.isnull().sum())"
      ],
      "metadata": {
        "colab": {
          "base_uri": "https://localhost:8080/"
        },
        "id": "mS0nJbS757o6",
        "outputId": "7c314a4a-5dc6-472c-8cdc-2ede5865a486"
      },
      "execution_count": null,
      "outputs": [
        {
          "output_type": "stream",
          "name": "stdout",
          "text": [
            "NaNs in X_train: 24814\n",
            "NaNs in X_test: 6205\n",
            "NaNs in y_train: 0\n",
            "NaNs in y_test: 1\n"
          ]
        }
      ]
    },
    {
      "cell_type": "code",
      "source": [
        "# Remove rows where the target variable 'rating' is NaN\n",
        "df = df.dropna(subset=['Rating'])\n",
        "\n",
        "# Re-define features and target variable after removing NaNs\n",
        "X = df.drop(['Rating'], axis=1)\n",
        "y = df['Rating']\n"
      ],
      "metadata": {
        "id": "BFi2PJwY6FlV"
      },
      "execution_count": null,
      "outputs": []
    },
    {
      "cell_type": "markdown",
      "source": [
        "DATA PREPROCESSING"
      ],
      "metadata": {
        "id": "i-KrcJeY7nhV"
      }
    },
    {
      "cell_type": "code",
      "source": [
        "# Convert numerical columns to appropriate data types\n",
        "df['Year'] = pd.to_numeric(df['Year'], errors='coerce')\n",
        "df['Duration'] = pd.to_numeric(df['Duration'], errors='coerce')\n",
        "df['Votes'] = pd.to_numeric(df['Votes'], errors='coerce')\n",
        "\n",
        "# Remove rows with NaN in target variable\n",
        "df = df.dropna(subset=['Rating'])\n",
        "\n",
        "# Handle missing values (if any)\n",
        "df.fillna(method='ffill', inplace=True)\n",
        "\n",
        "\n",
        "# Define features and target variable\n",
        "X = df.drop(['Rating'], axis=1)\n",
        "y = df['Rating']\n",
        "\n",
        "# Ensure no NaN values in features or target\n",
        "print(\"NaNs in X:\", X.isnull().sum().sum())\n",
        "print(\"NaNs in y:\", y.isnull().sum())\n",
        "\n",
        "# Categorical and numerical columns\n",
        "categorical_cols = ['Genre', 'Director', 'Actor 1', 'Actor 2', 'Actor 3']\n",
        "numerical_cols = ['Year', 'Duration', 'Votes']\n",
        "\n",
        "# Preprocessing for numerical data\n",
        "numerical_transformer = Pipeline(steps=[\n",
        "    ('imputer', SimpleImputer(strategy='median')),\n",
        "    ('scaler', StandardScaler())\n",
        "])\n",
        "\n",
        "# Preprocessing for categorical data\n",
        "categorical_transformer = Pipeline(steps=[\n",
        "    ('imputer', SimpleImputer(strategy='constant', fill_value='missing')),\n",
        "    ('onehot', OneHotEncoder(handle_unknown='ignore'))\n",
        "])\n",
        "\n",
        "# Combine preprocessing steps\n",
        "preprocessor = ColumnTransformer(\n",
        "    transformers=[\n",
        "        ('num', numerical_transformer, numerical_cols),\n",
        "        ('cat', categorical_transformer, categorical_cols)\n",
        "    ])\n",
        "\n",
        "# Split the data into training and testing sets\n",
        "X_train, X_test, y_train, y_test = train_test_split(X, y, test_size=0.2, random_state=42)"
      ],
      "metadata": {
        "colab": {
          "base_uri": "https://localhost:8080/"
        },
        "id": "xChbO9SQ3fxX",
        "outputId": "2f32adc5-9a93-4d8f-f758-aa10b3c42087"
      },
      "execution_count": null,
      "outputs": [
        {
          "output_type": "stream",
          "name": "stdout",
          "text": [
            "NaNs in X: 15838\n",
            "NaNs in y: 0\n"
          ]
        }
      ]
    },
    {
      "cell_type": "markdown",
      "source": [
        "MODEL TRAINING AND EVALUATION"
      ],
      "metadata": {
        "id": "vw4VGYWE7--W"
      }
    },
    {
      "cell_type": "code",
      "source": [
        "# Define and train the model\n",
        "model = Pipeline(steps=[('preprocessor', preprocessor), ('regressor', LinearRegression())])\n",
        "model.fit(X_train, y_train)\n",
        "\n",
        "# Make predictions\n",
        "y_pred = model.predict(X_test)\n",
        "\n",
        "# Evaluate the model\n",
        "mse = mean_squared_error(y_test, y_pred)\n",
        "mae = mean_absolute_error(y_test, y_pred)\n",
        "r2 = r2_score(y_test, y_pred)\n",
        "\n",
        "print(f\"Mean Squared Error: {mse}\")\n",
        "print(f\"Mean Absolute Error: {mae}\")\n",
        "print(f\"R^2 Score: {r2}\")"
      ],
      "metadata": {
        "colab": {
          "base_uri": "https://localhost:8080/"
        },
        "id": "pgu6e5jj4Kon",
        "outputId": "b105e048-6bb5-48ec-cd44-7eaaaf3a16c8"
      },
      "execution_count": null,
      "outputs": [
        {
          "output_type": "stream",
          "name": "stdout",
          "text": [
            "Mean Squared Error: 9.12066869719769\n",
            "Mean Absolute Error: 2.004223201616175\n",
            "R^2 Score: -3.9058400540183262\n"
          ]
        }
      ]
    }
  ]
}